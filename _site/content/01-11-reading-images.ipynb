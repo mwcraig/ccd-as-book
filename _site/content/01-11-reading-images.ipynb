{
 "cells": [
  {
   "cell_type": "markdown",
   "metadata": {},
   "source": [
    "# Reading images\n",
    "\n",
    "Astropy provides a few ways to read in FITS images, some in the core package and\n",
    "others in affiliated packages.\n",
    "\n",
    "Before exploring those, we'll create a set of (fake) images to work with."
   ]
  },
  {
   "cell_type": "code",
   "execution_count": 1,
   "metadata": {},
   "outputs": [],
   "source": [
    "from pathlib import Path\n",
    "from astropy.nddata import CCDData\n",
    "from astropy.io import fits"
   ]
  },
  {
   "cell_type": "markdown",
   "metadata": {},
   "source": [
    "## Working with directories\n",
    "\n",
    "[*Click here to comment on this section on GitHub (opens in new tab).*](https://github.com/mwcraig/ccd-reduction-and-photometry-guide/pull/206/files#diff-487933c57483df376c3cb4974dd2f82cR30){:target=\"_blank\"}\n",
    "\n",
    "The cell below contains the path to the images. In this notebook we'll use it\n",
    "both to store the fake images we generate and to read images. In normal use, you\n",
    "wouldn't start by writing images there, however.\n",
    "\n",
    "If the images are in the same directory as the notebook you can omit this, or\n",
    "set it to an empty string `''`. Having images in the same directory as the\n",
    "notebook is less complicated, but it's not at all uncommon to need to work with\n",
    "images in a different directory.\n",
    "\n",
    "Later, we'll look at how to generate the full path to an image (directory plus\n",
    "file name) in a way that will work on any platform. One of the approaches to\n",
    "loading images (using `ccdproc.ImageFileCollection`) lets you mostly forget\n",
    "about this."
   ]
  },
  {
   "cell_type": "code",
   "execution_count": 2,
   "metadata": {},
   "outputs": [],
   "source": [
    "data_directory = 'path/to/my/images'"
   ]
  },
  {
   "cell_type": "markdown",
   "metadata": {},
   "source": [
    "## Generate some fake images\n",
    "\n",
    "[*Click here to comment on this section on GitHub (opens in new tab).*](https://github.com/mwcraig/ccd-reduction-and-photometry-guide/pull/206/files#diff-487933c57483df376c3cb4974dd2f82cR60){:target=\"_blank\"}\n",
    "\n",
    "The cells below generate some fake images to use later in the notebook."
   ]
  },
  {
   "cell_type": "code",
   "execution_count": 3,
   "metadata": {},
   "outputs": [
    {
     "name": "stdout",
     "output_type": "stream",
     "text": [
      "path/to/my/images/img-0000.fits\n",
      "path/to/my/images/img-0001.fits\n",
      "path/to/my/images/img-0002.fits\n",
      "path/to/my/images/img-0003.fits\n",
      "path/to/my/images/img-0004.fits\n",
      "path/to/my/images/img-0005.fits\n",
      "path/to/my/images/img-0006.fits\n",
      "path/to/my/images/img-0007.fits\n",
      "path/to/my/images/img-0008.fits\n",
      "path/to/my/images/img-0009.fits\n",
      "path/to/my/images/img-0010.fits\n",
      "path/to/my/images/img-0011.fits\n",
      "path/to/my/images/img-0012.fits\n",
      "path/to/my/images/img-0013.fits\n",
      "path/to/my/images/img-0014.fits\n",
      "path/to/my/images/img-0015.fits\n",
      "path/to/my/images/img-0016.fits\n",
      "path/to/my/images/img-0017.fits\n",
      "path/to/my/images/img-0018.fits\n",
      "path/to/my/images/img-0019.fits\n",
      "path/to/my/images/img-0020.fits\n",
      "path/to/my/images/img-0021.fits\n",
      "path/to/my/images/img-0022.fits\n",
      "path/to/my/images/img-0023.fits\n",
      "path/to/my/images/img-0024.fits\n",
      "path/to/my/images/img-0025.fits\n",
      "path/to/my/images/img-0026.fits\n",
      "path/to/my/images/img-0027.fits\n"
     ]
    }
   ],
   "source": [
    "from pathlib import Path\n",
    "from itertools import cycle\n",
    "\n",
    "import numpy as np\n",
    "\n",
    "image_path = Path(data_directory)\n",
    "\n",
    "image_path.mkdir(parents=True, exist_ok=True)\n",
    "\n",
    "images_to_generate = {\n",
    "    'BIAS': 5,\n",
    "    'DARK': 10,\n",
    "    'FLAT': 3,\n",
    "    'LIGHT': 10\n",
    "}\n",
    "\n",
    "exposure_times = {\n",
    "    'BIAS': [0.0],\n",
    "    'DARK': [5.0, 30.0],\n",
    "    'FLAT': [5.0, 6.1, 7.3],\n",
    "    'LIGHT': [30.0],\n",
    "}\n",
    "\n",
    "filters = {\n",
    "    'FLAT': 'V',\n",
    "    'LIGHT': 'V'\n",
    "}\n",
    "\n",
    "objects = {\n",
    "    'LIGHT': ['m82', 'xx cyg']\n",
    "}\n",
    "\n",
    "image_size = [300, 200]\n",
    "\n",
    "image_number = 0\n",
    "for image_type, num in images_to_generate.items():\n",
    "    exposures = cycle(exposure_times[image_type])\n",
    "    try:\n",
    "        filts = cycle(filters[image_type])\n",
    "    except KeyError:\n",
    "        filts = []\n",
    "    \n",
    "    try:\n",
    "        objs = cycle(objects[image_type])\n",
    "    except KeyError:\n",
    "        objs = []\n",
    "    for _ in range(num):\n",
    "        img = CCDData(data=np.random.randn(*image_size), unit='adu')\n",
    "        img.meta['IMAGETYP'] = image_type\n",
    "        img.meta['EXPOSURE'] = next(exposures)\n",
    "        if filts:\n",
    "            img.meta['FILTER'] = next(filts)\n",
    "        if objs:\n",
    "            img.meta['OBJECT'] = next(objs)\n",
    "        image_name = str(image_path / f'img-{image_number:04d}.fits')\n",
    "        img.write(image_name)\n",
    "        print(image_name)\n",
    "        image_number += 1"
   ]
  },
  {
   "cell_type": "markdown",
   "metadata": {},
   "source": [
    "## Option 1: Reading a single image with `astropy.io.fits`\n",
    "\n",
    "[*Click here to comment on this section on GitHub (opens in new tab).*](https://github.com/mwcraig/ccd-reduction-and-photometry-guide/pull/206/files#diff-487933c57483df376c3cb4974dd2f82cR135){:target=\"_blank\"}\n",
    "\n",
    "This option gives you the most flexibility but is the least adapted to CCD\n",
    "images specifically. What you read in is a list of FITS extensions; you must\n",
    "first select the one you want then access the data or header as desired.\n",
    "\n",
    "We'll open up the first of the fake images, `img-0001.fits`. To combine that\n",
    "with the directory name we'll use Python 3's `pathlib`, which ensures that the\n",
    "path combination will work on Windows too."
   ]
  },
  {
   "cell_type": "code",
   "execution_count": 4,
   "metadata": {},
   "outputs": [
    {
     "name": "stdout",
     "output_type": "stream",
     "text": [
      "Filename: path/to/my/images/img-0001.fits\n",
      "No.    Name      Ver    Type      Cards   Dimensions   Format\n",
      "  0  PRIMARY       1 PrimaryHDU       8   (200, 300)   float64   \n"
     ]
    }
   ],
   "source": [
    "image_name = 'img-0001.fits'\n",
    "\n",
    "image_path = Path(data_directory) / image_name\n",
    "\n",
    "hdu_list = fits.open(image_path)\n",
    "hdu_list.info()"
   ]
  },
  {
   "cell_type": "markdown",
   "metadata": {},
   "source": [
    "The `hdu_list` is a list of FITS Header-Data Units. In this case there is just\n",
    "one, containing both the image header and data, which can be accessed as shown\n",
    "below."
   ]
  },
  {
   "cell_type": "code",
   "execution_count": 5,
   "metadata": {},
   "outputs": [
    {
     "data": {
      "text/plain": [
       "SIMPLE  =                    T / conforms to FITS standard                      \n",
       "BITPIX  =                  -64 / array data type                                \n",
       "NAXIS   =                    2 / number of array dimensions                     \n",
       "NAXIS1  =                  200                                                  \n",
       "NAXIS2  =                  300                                                  \n",
       "IMAGETYP= 'BIAS    '                                                            \n",
       "EXPOSURE=                  0.0                                                  \n",
       "BUNIT   = 'adu     '                                                            "
      ]
     },
     "execution_count": 5,
     "metadata": {},
     "output_type": "execute_result"
    }
   ],
   "source": [
    "hdu = hdu_list[0]\n",
    "hdu.header"
   ]
  },
  {
   "cell_type": "code",
   "execution_count": 6,
   "metadata": {},
   "outputs": [
    {
     "data": {
      "text/plain": [
       "array([[ 1.88549491,  0.00598049, -0.82128781, ..., -0.28810373,\n",
       "        -1.9759894 ,  0.02898905],\n",
       "       [-0.5175455 , -0.69480248,  0.24895757, ...,  1.07729033,\n",
       "         0.25320893,  0.00374187],\n",
       "       [ 0.07851889, -0.81167019,  1.52637413, ..., -0.61393081,\n",
       "        -1.37688791, -0.90493696],\n",
       "       ...,\n",
       "       [ 0.81708177,  0.15023039,  0.11680317, ..., -0.97163781,\n",
       "         0.42258174,  0.19080197],\n",
       "       [ 1.41892105,  0.79495699, -0.21972416, ...,  0.17599439,\n",
       "        -0.17416792,  0.37429249],\n",
       "       [-0.18603169,  0.42726363, -0.40210443, ...,  0.05583236,\n",
       "         0.64394215,  0.37381265]])"
      ]
     },
     "execution_count": 6,
     "metadata": {},
     "output_type": "execute_result"
    }
   ],
   "source": [
    "hdu.data"
   ]
  },
  {
   "cell_type": "markdown",
   "metadata": {},
   "source": [
    "The [documentation for io.fits](https://astropy.readthedocs.io/en/stable/io/fits/index.html) describes more of its capabilities."
   ]
  },
  {
   "cell_type": "markdown",
   "metadata": {},
   "source": [
    "## Option 2:  Use `CCDData` to read in a single image\n",
    "\n",
    "[*Click here to comment on this section on GitHub (opens in new tab).*](https://github.com/mwcraig/ccd-reduction-and-photometry-guide/pull/206/files#diff-487933c57483df376c3cb4974dd2f82cR199){:target=\"_blank\"}\n",
    "\n",
    "Astropy contains a `CCDData` object for representing a single image. It's not as\n",
    "flexible as using `astrop.io.fits` directly (for example, it assumes there is\n",
    "only one FITS extension and that it contains image data) but it sets up several\n",
    "properties that make the data easier to work with.\n",
    "\n",
    "We'll read in the same single image we did in the example above,\n",
    "`img-0001.fits`."
   ]
  },
  {
   "cell_type": "code",
   "execution_count": 7,
   "metadata": {},
   "outputs": [],
   "source": [
    "ccd = CCDData.read(image_path)"
   ]
  },
  {
   "cell_type": "markdown",
   "metadata": {},
   "source": [
    "The data and header are accessed similarly to how you access it in an HDU\n",
    "returned by `astropy.io.fits`:"
   ]
  },
  {
   "cell_type": "code",
   "execution_count": 8,
   "metadata": {},
   "outputs": [
    {
     "data": {
      "text/plain": [
       "SIMPLE  =                    T / conforms to FITS standard                      \n",
       "BITPIX  =                  -64 / array data type                                \n",
       "NAXIS   =                    2 / number of array dimensions                     \n",
       "NAXIS1  =                  200                                                  \n",
       "NAXIS2  =                  300                                                  \n",
       "IMAGETYP= 'BIAS    '                                                            \n",
       "EXPOSURE=                  0.0                                                  \n",
       "BUNIT   = 'adu     '                                                            "
      ]
     },
     "execution_count": 8,
     "metadata": {},
     "output_type": "execute_result"
    }
   ],
   "source": [
    "ccd.header"
   ]
  },
  {
   "cell_type": "code",
   "execution_count": 9,
   "metadata": {},
   "outputs": [
    {
     "data": {
      "text/plain": [
       "array([[ 1.88549491,  0.00598049, -0.82128781, ..., -0.28810373,\n",
       "        -1.9759894 ,  0.02898905],\n",
       "       [-0.5175455 , -0.69480248,  0.24895757, ...,  1.07729033,\n",
       "         0.25320893,  0.00374187],\n",
       "       [ 0.07851889, -0.81167019,  1.52637413, ..., -0.61393081,\n",
       "        -1.37688791, -0.90493696],\n",
       "       ...,\n",
       "       [ 0.81708177,  0.15023039,  0.11680317, ..., -0.97163781,\n",
       "         0.42258174,  0.19080197],\n",
       "       [ 1.41892105,  0.79495699, -0.21972416, ...,  0.17599439,\n",
       "        -0.17416792,  0.37429249],\n",
       "       [-0.18603169,  0.42726363, -0.40210443, ...,  0.05583236,\n",
       "         0.64394215,  0.37381265]])"
      ]
     },
     "execution_count": 9,
     "metadata": {},
     "output_type": "execute_result"
    }
   ],
   "source": [
    "ccd.data"
   ]
  },
  {
   "cell_type": "markdown",
   "metadata": {},
   "source": [
    "There are a [number of features of `CCDData`](https://astropy.readthedocs.io/en/stable/nddata/ccddata.html) that make it convenient for working\n",
    "with WCS, slicing, and more. Some of those features will be discussed in more\n",
    "detail in the notebooks that follow."
   ]
  },
  {
   "cell_type": "markdown",
   "metadata": {},
   "source": [
    "## Option 3: Working with a directory of images using `ImageFileCollection`\n",
    "\n",
    "[*Click here to comment on this section on GitHub (opens in new tab).*](https://github.com/mwcraig/ccd-reduction-and-photometry-guide/pull/206/files#diff-487933c57483df376c3cb4974dd2f82cR258){:target=\"_blank\"}\n",
    "\n",
    "The affiliated package [ccdproc](https://ccdproc.readthedocs.io/) provides an easier way\n",
    "to work with collections of images in a directory: an `ImageFileCollection`. The\n",
    "`ImageFileCollection` is initialized with the name of the directory containing\n",
    "the images."
   ]
  },
  {
   "cell_type": "code",
   "execution_count": 10,
   "metadata": {},
   "outputs": [],
   "source": [
    "from ccdproc import ImageFileCollection\n",
    "im_collection = ImageFileCollection(data_directory)"
   ]
  },
  {
   "cell_type": "markdown",
   "metadata": {},
   "source": [
    "Note that we didn't need to worry about using `pathlib` to combine the directory\n",
    "and file name, instead we give the collection the name of the directory."
   ]
  },
  {
   "cell_type": "markdown",
   "metadata": {},
   "source": [
    "### Summary of directory contents\n",
    "\n",
    "[*Click here to comment on this section on GitHub (opens in new tab).*](https://github.com/mwcraig/ccd-reduction-and-photometry-guide/pull/206/files#diff-487933c57483df376c3cb4974dd2f82cR288){:target=\"_blank\"}\n",
    "\n",
    "The `summary` property provides an overview of the files in the directory: it's\n",
    "an astropy `Table`, so you can access columns in the usual way."
   ]
  },
  {
   "cell_type": "code",
   "execution_count": 11,
   "metadata": {},
   "outputs": [
    {
     "data": {
      "text/html": [
       "<i>Table masked=True length=28</i>\n",
       "<table id=\"table140718978681432\" class=\"table-striped table-bordered table-condensed\">\n",
       "<thead><tr><th>file</th><th>simple</th><th>bitpix</th><th>naxis</th><th>naxis1</th><th>naxis2</th><th>imagetyp</th><th>exposure</th><th>bunit</th><th>filter</th><th>object</th></tr></thead>\n",
       "<thead><tr><th>str13</th><th>bool</th><th>int64</th><th>int64</th><th>int64</th><th>int64</th><th>str5</th><th>float64</th><th>str3</th><th>object</th><th>object</th></tr></thead>\n",
       "<tr><td>img-0000.fits</td><td>True</td><td>-64</td><td>2</td><td>200</td><td>300</td><td>BIAS</td><td>0.0</td><td>adu</td><td>--</td><td>--</td></tr>\n",
       "<tr><td>img-0001.fits</td><td>True</td><td>-64</td><td>2</td><td>200</td><td>300</td><td>BIAS</td><td>0.0</td><td>adu</td><td>--</td><td>--</td></tr>\n",
       "<tr><td>img-0002.fits</td><td>True</td><td>-64</td><td>2</td><td>200</td><td>300</td><td>BIAS</td><td>0.0</td><td>adu</td><td>--</td><td>--</td></tr>\n",
       "<tr><td>img-0003.fits</td><td>True</td><td>-64</td><td>2</td><td>200</td><td>300</td><td>BIAS</td><td>0.0</td><td>adu</td><td>--</td><td>--</td></tr>\n",
       "<tr><td>img-0004.fits</td><td>True</td><td>-64</td><td>2</td><td>200</td><td>300</td><td>BIAS</td><td>0.0</td><td>adu</td><td>--</td><td>--</td></tr>\n",
       "<tr><td>img-0005.fits</td><td>True</td><td>-64</td><td>2</td><td>200</td><td>300</td><td>DARK</td><td>5.0</td><td>adu</td><td>--</td><td>--</td></tr>\n",
       "<tr><td>img-0006.fits</td><td>True</td><td>-64</td><td>2</td><td>200</td><td>300</td><td>DARK</td><td>30.0</td><td>adu</td><td>--</td><td>--</td></tr>\n",
       "<tr><td>img-0007.fits</td><td>True</td><td>-64</td><td>2</td><td>200</td><td>300</td><td>DARK</td><td>5.0</td><td>adu</td><td>--</td><td>--</td></tr>\n",
       "<tr><td>img-0008.fits</td><td>True</td><td>-64</td><td>2</td><td>200</td><td>300</td><td>DARK</td><td>30.0</td><td>adu</td><td>--</td><td>--</td></tr>\n",
       "<tr><td>img-0009.fits</td><td>True</td><td>-64</td><td>2</td><td>200</td><td>300</td><td>DARK</td><td>5.0</td><td>adu</td><td>--</td><td>--</td></tr>\n",
       "<tr><td>...</td><td>...</td><td>...</td><td>...</td><td>...</td><td>...</td><td>...</td><td>...</td><td>...</td><td>...</td><td>...</td></tr>\n",
       "<tr><td>img-0018.fits</td><td>True</td><td>-64</td><td>2</td><td>200</td><td>300</td><td>LIGHT</td><td>30.0</td><td>adu</td><td>V</td><td>m82</td></tr>\n",
       "<tr><td>img-0019.fits</td><td>True</td><td>-64</td><td>2</td><td>200</td><td>300</td><td>LIGHT</td><td>30.0</td><td>adu</td><td>V</td><td>xx cyg</td></tr>\n",
       "<tr><td>img-0020.fits</td><td>True</td><td>-64</td><td>2</td><td>200</td><td>300</td><td>LIGHT</td><td>30.0</td><td>adu</td><td>V</td><td>m82</td></tr>\n",
       "<tr><td>img-0021.fits</td><td>True</td><td>-64</td><td>2</td><td>200</td><td>300</td><td>LIGHT</td><td>30.0</td><td>adu</td><td>V</td><td>xx cyg</td></tr>\n",
       "<tr><td>img-0022.fits</td><td>True</td><td>-64</td><td>2</td><td>200</td><td>300</td><td>LIGHT</td><td>30.0</td><td>adu</td><td>V</td><td>m82</td></tr>\n",
       "<tr><td>img-0023.fits</td><td>True</td><td>-64</td><td>2</td><td>200</td><td>300</td><td>LIGHT</td><td>30.0</td><td>adu</td><td>V</td><td>xx cyg</td></tr>\n",
       "<tr><td>img-0024.fits</td><td>True</td><td>-64</td><td>2</td><td>200</td><td>300</td><td>LIGHT</td><td>30.0</td><td>adu</td><td>V</td><td>m82</td></tr>\n",
       "<tr><td>img-0025.fits</td><td>True</td><td>-64</td><td>2</td><td>200</td><td>300</td><td>LIGHT</td><td>30.0</td><td>adu</td><td>V</td><td>xx cyg</td></tr>\n",
       "<tr><td>img-0026.fits</td><td>True</td><td>-64</td><td>2</td><td>200</td><td>300</td><td>LIGHT</td><td>30.0</td><td>adu</td><td>V</td><td>m82</td></tr>\n",
       "<tr><td>img-0027.fits</td><td>True</td><td>-64</td><td>2</td><td>200</td><td>300</td><td>LIGHT</td><td>30.0</td><td>adu</td><td>V</td><td>xx cyg</td></tr>\n",
       "</table>"
      ],
      "text/plain": [
       "<Table masked=True length=28>\n",
       "     file     simple bitpix naxis naxis1 ... exposure bunit filter object\n",
       "    str13      bool  int64  int64 int64  ... float64   str3 object object\n",
       "------------- ------ ------ ----- ------ ... -------- ----- ------ ------\n",
       "img-0000.fits   True    -64     2    200 ...      0.0   adu     --     --\n",
       "img-0001.fits   True    -64     2    200 ...      0.0   adu     --     --\n",
       "img-0002.fits   True    -64     2    200 ...      0.0   adu     --     --\n",
       "img-0003.fits   True    -64     2    200 ...      0.0   adu     --     --\n",
       "img-0004.fits   True    -64     2    200 ...      0.0   adu     --     --\n",
       "img-0005.fits   True    -64     2    200 ...      5.0   adu     --     --\n",
       "img-0006.fits   True    -64     2    200 ...     30.0   adu     --     --\n",
       "img-0007.fits   True    -64     2    200 ...      5.0   adu     --     --\n",
       "img-0008.fits   True    -64     2    200 ...     30.0   adu     --     --\n",
       "img-0009.fits   True    -64     2    200 ...      5.0   adu     --     --\n",
       "          ...    ...    ...   ...    ... ...      ...   ...    ...    ...\n",
       "img-0018.fits   True    -64     2    200 ...     30.0   adu      V    m82\n",
       "img-0019.fits   True    -64     2    200 ...     30.0   adu      V xx cyg\n",
       "img-0020.fits   True    -64     2    200 ...     30.0   adu      V    m82\n",
       "img-0021.fits   True    -64     2    200 ...     30.0   adu      V xx cyg\n",
       "img-0022.fits   True    -64     2    200 ...     30.0   adu      V    m82\n",
       "img-0023.fits   True    -64     2    200 ...     30.0   adu      V xx cyg\n",
       "img-0024.fits   True    -64     2    200 ...     30.0   adu      V    m82\n",
       "img-0025.fits   True    -64     2    200 ...     30.0   adu      V xx cyg\n",
       "img-0026.fits   True    -64     2    200 ...     30.0   adu      V    m82\n",
       "img-0027.fits   True    -64     2    200 ...     30.0   adu      V xx cyg"
      ]
     },
     "execution_count": 11,
     "metadata": {},
     "output_type": "execute_result"
    }
   ],
   "source": [
    "im_collection.summary"
   ]
  },
  {
   "cell_type": "markdown",
   "metadata": {},
   "source": [
    "### Filtering and iterating over images\n",
    "\n",
    "[*Click here to comment on this section on GitHub (opens in new tab).*](https://github.com/mwcraig/ccd-reduction-and-photometry-guide/pull/206/files#diff-487933c57483df376c3cb4974dd2f82cR307){:target=\"_blank\"}\n",
    "\n",
    "The great thing about `ImageFileCollection` is that it provides convenient ways\n",
    "to filter or loop over files via FITS header keyword values.\n",
    "\n",
    "For example, looping over just the flat files is one line of code:"
   ]
  },
  {
   "cell_type": "code",
   "execution_count": 12,
   "metadata": {},
   "outputs": [
    {
     "name": "stdout",
     "output_type": "stream",
     "text": [
      "5.0\n",
      "6.1\n",
      "7.3\n"
     ]
    }
   ],
   "source": [
    "for a_flat in im_collection.hdus(imagetyp='FLAT'):\n",
    "    print(a_flat.header['EXPOSURE'])"
   ]
  },
  {
   "cell_type": "markdown",
   "metadata": {},
   "source": [
    "Instead of iterating over HDUs, as in the example above, you can iterate over\n",
    "just the headers (with `.headers`) or just the data (with `.data`). You can use\n",
    "any FITS keyword from the header as a keyword for selecting the images you want.\n",
    "In addition, you can return the file name while also iterating."
   ]
  },
  {
   "cell_type": "code",
   "execution_count": 13,
   "metadata": {},
   "outputs": [
    {
     "name": "stdout",
     "output_type": "stream",
     "text": [
      "In file img-0018.fits the exposure is: 30.0 with standard deviation  0.9982809897572352\n",
      "In file img-0020.fits the exposure is: 30.0 with standard deviation  1.002667220369337\n",
      "In file img-0022.fits the exposure is: 30.0 with standard deviation  1.0002050007963355\n",
      "In file img-0024.fits the exposure is: 30.0 with standard deviation  0.9981232307305272\n",
      "In file img-0026.fits the exposure is: 30.0 with standard deviation  1.0010826099252885\n"
     ]
    }
   ],
   "source": [
    "for a_flat, fname in im_collection.hdus(imagetyp='LIGHT', object='m82', return_fname=True):\n",
    "    print(f'In file {fname} the exposure is:', a_flat.header['EXPOSURE'], 'with standard deviation ', a_flat.data.std())"
   ]
  },
  {
   "cell_type": "markdown",
   "metadata": {},
   "source": [
    "The [documentation for `ImageFileCollection`](https://ccdproc.readthedocs.io/en/latest/ccdproc/image_management.html) describes more of its capabilities.\n",
    "`ImageFileCollection` can automatically save a copy of each image as you iterate\n",
    "over them, for example."
   ]
  },
  {
   "cell_type": "code",
   "execution_count": 14,
   "metadata": {},
   "outputs": [
    {
     "name": "stdout",
     "output_type": "stream",
     "text": [
      "adu\n",
      "adu\n",
      "adu\n",
      "adu\n",
      "adu\n",
      "adu\n",
      "adu\n",
      "adu\n",
      "adu\n",
      "adu\n",
      "adu\n",
      "adu\n",
      "adu\n",
      "adu\n",
      "adu\n",
      "adu\n",
      "adu\n",
      "adu\n",
      "adu\n",
      "adu\n",
      "adu\n",
      "adu\n",
      "adu\n",
      "adu\n",
      "adu\n",
      "adu\n",
      "adu\n",
      "adu\n"
     ]
    }
   ],
   "source": [
    "for a_flat, fname in im_collection.ccds(bunit='ADU', return_fname=True):\n",
    "    print(a_flat.unit)"
   ]
  },
  {
   "cell_type": "code",
   "execution_count": 15,
   "metadata": {},
   "outputs": [
    {
     "data": {
      "text/plain": [
       "SIMPLE  =                    T / conforms to FITS standard                      \n",
       "BITPIX  =                  -64 / array data type                                \n",
       "NAXIS   =                    2 / number of array dimensions                     \n",
       "NAXIS1  =                  200                                                  \n",
       "NAXIS2  =                  300                                                  \n",
       "IMAGETYP= 'LIGHT   '                                                            \n",
       "EXPOSURE=                 30.0                                                  \n",
       "FILTER  = 'V       '                                                            \n",
       "OBJECT  = 'xx cyg  '                                                            \n",
       "BUNIT   = 'adu     '                                                            "
      ]
     },
     "execution_count": 15,
     "metadata": {},
     "output_type": "execute_result"
    }
   ],
   "source": [
    "a_flat.header"
   ]
  }
 ],
 "metadata": {
  "kernelspec": {
   "display_name": "Python 3",
   "language": "python",
   "name": "python3"
  },
  "language_info": {
   "codemirror_mode": {
    "name": "ipython",
    "version": 3
   },
   "file_extension": ".py",
   "mimetype": "text/x-python",
   "name": "python",
   "nbconvert_exporter": "python",
   "pygments_lexer": "ipython3",
   "version": "3.6.8"
  }
 },
 "nbformat": 4,
 "nbformat_minor": 2
}
